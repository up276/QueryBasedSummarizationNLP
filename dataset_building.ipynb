{
 "cells": [
  {
   "cell_type": "markdown",
   "metadata": {},
   "source": [
    "# Building the data set\n",
    "\n",
    "The objective of this notebook is to create the dataset to work with. Each line of the loaded dataset correspond to a unique paragraph extracted from a wikipedia page. Therefore, each line of the dataset has the following information : title of wikipedia article the paragraph belongs to, section title the paragraph belongs to (each wikipedia page is divided into sections under which they can be several paragraphs), paragraph unique id, paragraph full text. In addition, we have added a relation label column which indicates if the text in the paragraph text column corresponds to the good section title. \n",
    "\n",
    "As we load the dataset, we only have relation_label = 1. The objective of this notebook is to create the dataset to work with as (question, parahraph text, relation_label), where the questions is the concatenation of article title and section title : question = [section title + 'of' + article tile] (for instance 'diet' 'of' 'sea turtle'). Also, from originally only correct question-paragraph pairs, we also generate false question-paragraph pairs, where a false pair is created by associating to a paragraph text an incorrect question being the concatenation of ['incorrect section title' + 'of' + 'correct article title'] (for instance 'habitat' 'of' 'sea turtle'). "
   ]
  },
  {
   "cell_type": "code",
   "execution_count": 51,
   "metadata": {},
   "outputs": [],
   "source": [
    "import sys\n",
    "import os \n",
    "import pandas as pd\n",
    "import numpy as np\n",
    "import matplotlib.pyplot as plt\n",
    "%matplotlib inline"
   ]
  },
  {
   "cell_type": "code",
   "execution_count": null,
   "metadata": {
    "collapsed": true
   },
   "outputs": [],
   "source": [
    "# load data\n",
    "df = pd.read_csv(\"../data/para_csv_f1.csv\")"
   ]
  },
  {
   "cell_type": "code",
   "execution_count": 180,
   "metadata": {},
   "outputs": [
    {
     "data": {
      "text/plain": [
       "(709421, 5)"
      ]
     },
     "execution_count": 180,
     "metadata": {},
     "output_type": "execute_result"
    }
   ],
   "source": [
    "df.shape"
   ]
  },
  {
   "cell_type": "code",
   "execution_count": 181,
   "metadata": {},
   "outputs": [
    {
     "data": {
      "text/html": [
       "<div>\n",
       "<table border=\"1\" class=\"dataframe\">\n",
       "  <thead>\n",
       "    <tr style=\"text-align: right;\">\n",
       "      <th></th>\n",
       "      <th>pagename</th>\n",
       "      <th>section</th>\n",
       "      <th>para_id</th>\n",
       "      <th>para_text</th>\n",
       "      <th>rel_label</th>\n",
       "    </tr>\n",
       "  </thead>\n",
       "  <tbody>\n",
       "    <tr>\n",
       "      <th>0</th>\n",
       "      <td>0114</td>\n",
       "      <td>coverage</td>\n",
       "      <td>5c4d8a5fb15fa87ac096174957b3621b67d6a207</td>\n",
       "      <td>The 0114 dialing code includes the whole of  S...</td>\n",
       "      <td>1</td>\n",
       "    </tr>\n",
       "    <tr>\n",
       "      <th>1</th>\n",
       "      <td>0114</td>\n",
       "      <td>history</td>\n",
       "      <td>32c808b9a9d5407d31851cad1125f3e5e4af7dda</td>\n",
       "      <td>Switching to 6-digit numbers produced 90 000 a...</td>\n",
       "      <td>1</td>\n",
       "    </tr>\n",
       "    <tr>\n",
       "      <th>2</th>\n",
       "      <td>0114</td>\n",
       "      <td>history</td>\n",
       "      <td>4c5c5db4621532149aaf828fca282bcd5a7e757a</td>\n",
       "      <td>Before 1965  Sheffield had 5-digit telephone n...</td>\n",
       "      <td>1</td>\n",
       "    </tr>\n",
       "    <tr>\n",
       "      <th>3</th>\n",
       "      <td>0114</td>\n",
       "      <td>history</td>\n",
       "      <td>50b5cb599e17e542fa63c14324d123bffc41cec0</td>\n",
       "      <td>Transitioning to 7-digit numbers in 1995 invol...</td>\n",
       "      <td>1</td>\n",
       "    </tr>\n",
       "    <tr>\n",
       "      <th>4</th>\n",
       "      <td>0114</td>\n",
       "      <td>history</td>\n",
       "      <td>f2523d06b2083c7b4fc048e012460db3d2ac069d</td>\n",
       "      <td>Until the 1980s  Stocksbridge  Oughtibridge  a...</td>\n",
       "      <td>1</td>\n",
       "    </tr>\n",
       "  </tbody>\n",
       "</table>\n",
       "</div>"
      ],
      "text/plain": [
       "  pagename   section                                   para_id  \\\n",
       "0     0114  coverage  5c4d8a5fb15fa87ac096174957b3621b67d6a207   \n",
       "1     0114   history  32c808b9a9d5407d31851cad1125f3e5e4af7dda   \n",
       "2     0114   history  4c5c5db4621532149aaf828fca282bcd5a7e757a   \n",
       "3     0114   history  50b5cb599e17e542fa63c14324d123bffc41cec0   \n",
       "4     0114   history  f2523d06b2083c7b4fc048e012460db3d2ac069d   \n",
       "\n",
       "                                           para_text  rel_label  \n",
       "0  The 0114 dialing code includes the whole of  S...          1  \n",
       "1  Switching to 6-digit numbers produced 90 000 a...          1  \n",
       "2  Before 1965  Sheffield had 5-digit telephone n...          1  \n",
       "3  Transitioning to 7-digit numbers in 1995 invol...          1  \n",
       "4  Until the 1980s  Stocksbridge  Oughtibridge  a...          1  "
      ]
     },
     "execution_count": 181,
     "metadata": {},
     "output_type": "execute_result"
    }
   ],
   "source": [
    "df.head()"
   ]
  },
  {
   "cell_type": "code",
   "execution_count": 182,
   "metadata": {},
   "outputs": [],
   "source": [
    "# encode questions to unicode\n",
    "df['pagename'] = df['pagename'].apply(lambda x: str(x))\n",
    "df['section'] = df['section'].apply(lambda x: str(x))\n",
    "df['para_text'] = df['para_text'].apply(lambda x: str(x))"
   ]
  },
  {
   "cell_type": "code",
   "execution_count": 183,
   "metadata": {
    "collapsed": true
   },
   "outputs": [],
   "source": [
    "# adding a query column which is the concatenation of pagename + section\n",
    "df['query'] = df['section'] + ' of ' + df['pagename']"
   ]
  },
  {
   "cell_type": "code",
   "execution_count": 184,
   "metadata": {},
   "outputs": [],
   "source": [
    "# creating an index such that all paragraphs / query associated with same pagename share the same/unique index\n",
    "ids = {}\n",
    "i = 0\n",
    "for pagename in df['pagename'].unique():\n",
    "    ids[pagename] = i\n",
    "    i+=1\n",
    "    \n",
    "df['pagename_index'] = df['pagename'].apply(lambda x: ids[x])"
   ]
  },
  {
   "cell_type": "markdown",
   "metadata": {},
   "source": [
    "# Creating False labels"
   ]
  },
  {
   "cell_type": "code",
   "execution_count": 185,
   "metadata": {},
   "outputs": [],
   "source": [
    "# create dictionnary {pagename : [list of section names]}\n",
    "pagenames = df['pagename'].values.tolist()\n",
    "sections = df['section'].values.tolist()\n",
    "d = {}\n",
    "i=0\n",
    "for pagename in pagenames:\n",
    "    if pagename not in d.keys():\n",
    "        d[pagename]=[sections[i]]\n",
    "    else:\n",
    "        d[pagename].append(sections[i])    \n",
    "    i+=1\n",
    "    \n",
    "for k in d.keys():\n",
    "    d[k] = list(set(d[k]))"
   ]
  },
  {
   "cell_type": "code",
   "execution_count": 186,
   "metadata": {},
   "outputs": [
    {
     "name": "stdout",
     "output_type": "stream",
     "text": [
      "length before 709421\n",
      "number of wikipedia pages with only 1 section : 84\n",
      "length after 708106\n"
     ]
    }
   ],
   "source": [
    "# remove wikipedia pages that have only 1 section (not possible to create fake labels)\n",
    "print('length before %d' %df.shape[0])\n",
    "uniques = []\n",
    "for k in d.keys():\n",
    "    if len(d[k])==1:\n",
    "        uniques.append(k)\n",
    "print('number of wikipedia pages with only 1 section : %d' %len(uniques))\n",
    "df = df[~df.pagename.isin(uniques)]\n",
    "print('length after %d' %df.shape[0])"
   ]
  },
  {
   "cell_type": "code",
   "execution_count": 187,
   "metadata": {},
   "outputs": [
    {
     "name": "stdout",
     "output_type": "stream",
     "text": [
      "number of wikipedia pages :  36018\n",
      "number of wikipedia pages to keep 18009\n"
     ]
    }
   ],
   "source": [
    "# Keep a subset of wikipedia pages in order not to have a data set too big\n",
    "indexes = df.pagename_index.unique()\n",
    "random.shuffle(indexes)\n",
    "n = len(indexes)\n",
    "print('number of wikipedia pages : ', n)\n",
    "n= int(n/2)\n",
    "print('number of wikipedia pages to keep', n)\n",
    "keep_indexes = indexes[:n]"
   ]
  },
  {
   "cell_type": "code",
   "execution_count": 188,
   "metadata": {
    "collapsed": true
   },
   "outputs": [],
   "source": [
    "df = df[df.pagename_index.isin(keep_indexes)]"
   ]
  },
  {
   "cell_type": "code",
   "execution_count": 189,
   "metadata": {},
   "outputs": [
    {
     "data": {
      "text/plain": [
       "(351440, 7)"
      ]
     },
     "execution_count": 189,
     "metadata": {},
     "output_type": "execute_result"
    }
   ],
   "source": [
    "df.shape"
   ]
  },
  {
   "cell_type": "code",
   "execution_count": 190,
   "metadata": {},
   "outputs": [],
   "source": [
    "# keep some good pairs\n",
    "df_true_pairs = df.copy()\n",
    "\n",
    "# build wrong pairs (queries from df_true_pairs associated with wrong paragraphs)\n",
    "# copy good queries\n",
    "df_false_pairs = df_true_pairs.copy()\n",
    "df_false_pairs.reset_index(drop=True,inplace=True)"
   ]
  },
  {
   "cell_type": "code",
   "execution_count": 191,
   "metadata": {},
   "outputs": [
    {
     "data": {
      "text/html": [
       "<div>\n",
       "<table border=\"1\" class=\"dataframe\">\n",
       "  <thead>\n",
       "    <tr style=\"text-align: right;\">\n",
       "      <th></th>\n",
       "      <th>pagename</th>\n",
       "      <th>section</th>\n",
       "      <th>para_id</th>\n",
       "      <th>para_text</th>\n",
       "      <th>rel_label</th>\n",
       "      <th>query</th>\n",
       "      <th>pagename_index</th>\n",
       "    </tr>\n",
       "  </thead>\n",
       "  <tbody>\n",
       "    <tr>\n",
       "      <th>0</th>\n",
       "      <td>14th united states congress</td>\n",
       "      <td>committees</td>\n",
       "      <td>9530c09b4dae41d24278d9049cee4f467ec9c121</td>\n",
       "      <td>Lists of committees and their party leaders.</td>\n",
       "      <td>1</td>\n",
       "      <td>committees of 14th united states congress</td>\n",
       "      <td>3</td>\n",
       "    </tr>\n",
       "    <tr>\n",
       "      <th>1</th>\n",
       "      <td>16th united states congress</td>\n",
       "      <td>committees</td>\n",
       "      <td>9530c09b4dae41d24278d9049cee4f467ec9c121</td>\n",
       "      <td>Lists of committees and their party leaders.</td>\n",
       "      <td>1</td>\n",
       "      <td>committees of 16th united states congress</td>\n",
       "      <td>4</td>\n",
       "    </tr>\n",
       "    <tr>\n",
       "      <th>2</th>\n",
       "      <td>58th united states congress</td>\n",
       "      <td>committees</td>\n",
       "      <td>9530c09b4dae41d24278d9049cee4f467ec9c121</td>\n",
       "      <td>Lists of committees and their party leaders.</td>\n",
       "      <td>1</td>\n",
       "      <td>committees of 58th united states congress</td>\n",
       "      <td>7</td>\n",
       "    </tr>\n",
       "    <tr>\n",
       "      <th>3</th>\n",
       "      <td>14th united states congress</td>\n",
       "      <td>members</td>\n",
       "      <td>197ea49b7ff0cb049d6db34a4bdeefc3ab9be297</td>\n",
       "      <td>This list is arranged by chamber  then by stat...</td>\n",
       "      <td>1</td>\n",
       "      <td>members of 14th united states congress</td>\n",
       "      <td>3</td>\n",
       "    </tr>\n",
       "    <tr>\n",
       "      <th>4</th>\n",
       "      <td>16th united states congress</td>\n",
       "      <td>members</td>\n",
       "      <td>197ea49b7ff0cb049d6db34a4bdeefc3ab9be297</td>\n",
       "      <td>This list is arranged by chamber  then by stat...</td>\n",
       "      <td>1</td>\n",
       "      <td>members of 16th united states congress</td>\n",
       "      <td>4</td>\n",
       "    </tr>\n",
       "  </tbody>\n",
       "</table>\n",
       "</div>"
      ],
      "text/plain": [
       "                      pagename     section  \\\n",
       "0  14th united states congress  committees   \n",
       "1  16th united states congress  committees   \n",
       "2  58th united states congress  committees   \n",
       "3  14th united states congress     members   \n",
       "4  16th united states congress     members   \n",
       "\n",
       "                                    para_id  \\\n",
       "0  9530c09b4dae41d24278d9049cee4f467ec9c121   \n",
       "1  9530c09b4dae41d24278d9049cee4f467ec9c121   \n",
       "2  9530c09b4dae41d24278d9049cee4f467ec9c121   \n",
       "3  197ea49b7ff0cb049d6db34a4bdeefc3ab9be297   \n",
       "4  197ea49b7ff0cb049d6db34a4bdeefc3ab9be297   \n",
       "\n",
       "                                           para_text  rel_label  \\\n",
       "0       Lists of committees and their party leaders.          1   \n",
       "1       Lists of committees and their party leaders.          1   \n",
       "2       Lists of committees and their party leaders.          1   \n",
       "3  This list is arranged by chamber  then by stat...          1   \n",
       "4  This list is arranged by chamber  then by stat...          1   \n",
       "\n",
       "                                       query  pagename_index  \n",
       "0  committees of 14th united states congress               3  \n",
       "1  committees of 16th united states congress               4  \n",
       "2  committees of 58th united states congress               7  \n",
       "3     members of 14th united states congress               3  \n",
       "4     members of 16th united states congress               4  "
      ]
     },
     "execution_count": 191,
     "metadata": {},
     "output_type": "execute_result"
    }
   ],
   "source": [
    "df_false_pairs.head()"
   ]
  },
  {
   "cell_type": "code",
   "execution_count": 192,
   "metadata": {},
   "outputs": [],
   "source": [
    "# change section name\n",
    "import random \n",
    "\n",
    "def f(pagename, section): \n",
    "    # pick a random section name that belongs to the same pagename but is different from current section name\n",
    "    choices = [sec for sec in d[pagename] if sec != section]\n",
    "    r = random.choice(choices)\n",
    "    return r\n",
    "    \n",
    "df_false_pairs['new_section'] = df_false_pairs[['pagename', 'section']].apply(lambda row: f(row['pagename'], row['section']),axis=1)"
   ]
  },
  {
   "cell_type": "code",
   "execution_count": 195,
   "metadata": {},
   "outputs": [
    {
     "data": {
      "text/html": [
       "<div>\n",
       "<table border=\"1\" class=\"dataframe\">\n",
       "  <thead>\n",
       "    <tr style=\"text-align: right;\">\n",
       "      <th></th>\n",
       "      <th>pagename</th>\n",
       "      <th>section</th>\n",
       "      <th>para_id</th>\n",
       "      <th>para_text</th>\n",
       "      <th>rel_label</th>\n",
       "      <th>query</th>\n",
       "      <th>pagename_index</th>\n",
       "      <th>new_section</th>\n",
       "    </tr>\n",
       "  </thead>\n",
       "  <tbody>\n",
       "    <tr>\n",
       "      <th>0</th>\n",
       "      <td>14th united states congress</td>\n",
       "      <td>committees</td>\n",
       "      <td>9530c09b4dae41d24278d9049cee4f467ec9c121</td>\n",
       "      <td>Lists of committees and their party leaders.</td>\n",
       "      <td>1</td>\n",
       "      <td>committees of 14th united states congress</td>\n",
       "      <td>3</td>\n",
       "      <td>members</td>\n",
       "    </tr>\n",
       "    <tr>\n",
       "      <th>1</th>\n",
       "      <td>16th united states congress</td>\n",
       "      <td>committees</td>\n",
       "      <td>9530c09b4dae41d24278d9049cee4f467ec9c121</td>\n",
       "      <td>Lists of committees and their party leaders.</td>\n",
       "      <td>1</td>\n",
       "      <td>committees of 16th united states congress</td>\n",
       "      <td>4</td>\n",
       "      <td>party summary</td>\n",
       "    </tr>\n",
       "    <tr>\n",
       "      <th>2</th>\n",
       "      <td>58th united states congress</td>\n",
       "      <td>committees</td>\n",
       "      <td>9530c09b4dae41d24278d9049cee4f467ec9c121</td>\n",
       "      <td>Lists of committees and their party leaders.</td>\n",
       "      <td>1</td>\n",
       "      <td>committees of 58th united states congress</td>\n",
       "      <td>7</td>\n",
       "      <td>party summary</td>\n",
       "    </tr>\n",
       "    <tr>\n",
       "      <th>3</th>\n",
       "      <td>14th united states congress</td>\n",
       "      <td>members</td>\n",
       "      <td>197ea49b7ff0cb049d6db34a4bdeefc3ab9be297</td>\n",
       "      <td>This list is arranged by chamber  then by stat...</td>\n",
       "      <td>1</td>\n",
       "      <td>members of 14th united states congress</td>\n",
       "      <td>3</td>\n",
       "      <td>changes in membership</td>\n",
       "    </tr>\n",
       "    <tr>\n",
       "      <th>4</th>\n",
       "      <td>16th united states congress</td>\n",
       "      <td>members</td>\n",
       "      <td>197ea49b7ff0cb049d6db34a4bdeefc3ab9be297</td>\n",
       "      <td>This list is arranged by chamber  then by stat...</td>\n",
       "      <td>1</td>\n",
       "      <td>members of 16th united states congress</td>\n",
       "      <td>4</td>\n",
       "      <td>party summary</td>\n",
       "    </tr>\n",
       "  </tbody>\n",
       "</table>\n",
       "</div>"
      ],
      "text/plain": [
       "                      pagename     section  \\\n",
       "0  14th united states congress  committees   \n",
       "1  16th united states congress  committees   \n",
       "2  58th united states congress  committees   \n",
       "3  14th united states congress     members   \n",
       "4  16th united states congress     members   \n",
       "\n",
       "                                    para_id  \\\n",
       "0  9530c09b4dae41d24278d9049cee4f467ec9c121   \n",
       "1  9530c09b4dae41d24278d9049cee4f467ec9c121   \n",
       "2  9530c09b4dae41d24278d9049cee4f467ec9c121   \n",
       "3  197ea49b7ff0cb049d6db34a4bdeefc3ab9be297   \n",
       "4  197ea49b7ff0cb049d6db34a4bdeefc3ab9be297   \n",
       "\n",
       "                                           para_text  rel_label  \\\n",
       "0       Lists of committees and their party leaders.          1   \n",
       "1       Lists of committees and their party leaders.          1   \n",
       "2       Lists of committees and their party leaders.          1   \n",
       "3  This list is arranged by chamber  then by stat...          1   \n",
       "4  This list is arranged by chamber  then by stat...          1   \n",
       "\n",
       "                                       query  pagename_index  \\\n",
       "0  committees of 14th united states congress               3   \n",
       "1  committees of 16th united states congress               4   \n",
       "2  committees of 58th united states congress               7   \n",
       "3     members of 14th united states congress               3   \n",
       "4     members of 16th united states congress               4   \n",
       "\n",
       "             new_section  \n",
       "0                members  \n",
       "1          party summary  \n",
       "2          party summary  \n",
       "3  changes in membership  \n",
       "4          party summary  "
      ]
     },
     "execution_count": 195,
     "metadata": {},
     "output_type": "execute_result"
    }
   ],
   "source": [
    "df_false_pairs.head()"
   ]
  },
  {
   "cell_type": "code",
   "execution_count": 196,
   "metadata": {},
   "outputs": [],
   "source": [
    "# update the query\n",
    "df_false_pairs['query'] = df_false_pairs['new_section'] + ' of ' + df_false_pairs['pagename']\n",
    "\n",
    "# change labels 1 to 0\n",
    "df_false_pairs['rel_label']=0"
   ]
  },
  {
   "cell_type": "code",
   "execution_count": 197,
   "metadata": {},
   "outputs": [
    {
     "data": {
      "text/html": [
       "<div>\n",
       "<table border=\"1\" class=\"dataframe\">\n",
       "  <thead>\n",
       "    <tr style=\"text-align: right;\">\n",
       "      <th></th>\n",
       "      <th>pagename</th>\n",
       "      <th>section</th>\n",
       "      <th>para_id</th>\n",
       "      <th>para_text</th>\n",
       "      <th>rel_label</th>\n",
       "      <th>query</th>\n",
       "      <th>pagename_index</th>\n",
       "      <th>new_section</th>\n",
       "    </tr>\n",
       "  </thead>\n",
       "  <tbody>\n",
       "    <tr>\n",
       "      <th>0</th>\n",
       "      <td>14th united states congress</td>\n",
       "      <td>committees</td>\n",
       "      <td>9530c09b4dae41d24278d9049cee4f467ec9c121</td>\n",
       "      <td>Lists of committees and their party leaders.</td>\n",
       "      <td>0</td>\n",
       "      <td>members of 14th united states congress</td>\n",
       "      <td>3</td>\n",
       "      <td>members</td>\n",
       "    </tr>\n",
       "    <tr>\n",
       "      <th>1</th>\n",
       "      <td>16th united states congress</td>\n",
       "      <td>committees</td>\n",
       "      <td>9530c09b4dae41d24278d9049cee4f467ec9c121</td>\n",
       "      <td>Lists of committees and their party leaders.</td>\n",
       "      <td>0</td>\n",
       "      <td>party summary of 16th united states congress</td>\n",
       "      <td>4</td>\n",
       "      <td>party summary</td>\n",
       "    </tr>\n",
       "    <tr>\n",
       "      <th>2</th>\n",
       "      <td>58th united states congress</td>\n",
       "      <td>committees</td>\n",
       "      <td>9530c09b4dae41d24278d9049cee4f467ec9c121</td>\n",
       "      <td>Lists of committees and their party leaders.</td>\n",
       "      <td>0</td>\n",
       "      <td>party summary of 58th united states congress</td>\n",
       "      <td>7</td>\n",
       "      <td>party summary</td>\n",
       "    </tr>\n",
       "    <tr>\n",
       "      <th>3</th>\n",
       "      <td>14th united states congress</td>\n",
       "      <td>members</td>\n",
       "      <td>197ea49b7ff0cb049d6db34a4bdeefc3ab9be297</td>\n",
       "      <td>This list is arranged by chamber  then by stat...</td>\n",
       "      <td>0</td>\n",
       "      <td>changes in membership of 14th united states co...</td>\n",
       "      <td>3</td>\n",
       "      <td>changes in membership</td>\n",
       "    </tr>\n",
       "    <tr>\n",
       "      <th>4</th>\n",
       "      <td>16th united states congress</td>\n",
       "      <td>members</td>\n",
       "      <td>197ea49b7ff0cb049d6db34a4bdeefc3ab9be297</td>\n",
       "      <td>This list is arranged by chamber  then by stat...</td>\n",
       "      <td>0</td>\n",
       "      <td>party summary of 16th united states congress</td>\n",
       "      <td>4</td>\n",
       "      <td>party summary</td>\n",
       "    </tr>\n",
       "  </tbody>\n",
       "</table>\n",
       "</div>"
      ],
      "text/plain": [
       "                      pagename     section  \\\n",
       "0  14th united states congress  committees   \n",
       "1  16th united states congress  committees   \n",
       "2  58th united states congress  committees   \n",
       "3  14th united states congress     members   \n",
       "4  16th united states congress     members   \n",
       "\n",
       "                                    para_id  \\\n",
       "0  9530c09b4dae41d24278d9049cee4f467ec9c121   \n",
       "1  9530c09b4dae41d24278d9049cee4f467ec9c121   \n",
       "2  9530c09b4dae41d24278d9049cee4f467ec9c121   \n",
       "3  197ea49b7ff0cb049d6db34a4bdeefc3ab9be297   \n",
       "4  197ea49b7ff0cb049d6db34a4bdeefc3ab9be297   \n",
       "\n",
       "                                           para_text  rel_label  \\\n",
       "0       Lists of committees and their party leaders.          0   \n",
       "1       Lists of committees and their party leaders.          0   \n",
       "2       Lists of committees and their party leaders.          0   \n",
       "3  This list is arranged by chamber  then by stat...          0   \n",
       "4  This list is arranged by chamber  then by stat...          0   \n",
       "\n",
       "                                               query  pagename_index  \\\n",
       "0             members of 14th united states congress               3   \n",
       "1       party summary of 16th united states congress               4   \n",
       "2       party summary of 58th united states congress               7   \n",
       "3  changes in membership of 14th united states co...               3   \n",
       "4       party summary of 16th united states congress               4   \n",
       "\n",
       "             new_section  \n",
       "0                members  \n",
       "1          party summary  \n",
       "2          party summary  \n",
       "3  changes in membership  \n",
       "4          party summary  "
      ]
     },
     "execution_count": 197,
     "metadata": {},
     "output_type": "execute_result"
    }
   ],
   "source": [
    "df_false_pairs.head()"
   ]
  },
  {
   "cell_type": "code",
   "execution_count": 198,
   "metadata": {},
   "outputs": [],
   "source": [
    "df_false_pairs = df_false_pairs.drop('new_section', 1)"
   ]
  },
  {
   "cell_type": "code",
   "execution_count": 199,
   "metadata": {},
   "outputs": [
    {
     "name": "stdout",
     "output_type": "stream",
     "text": [
      "(351440, 7)\n",
      "(351440, 7)\n"
     ]
    }
   ],
   "source": [
    "print(df_true_pairs.shape)\n",
    "print(df_false_pairs.shape)"
   ]
  },
  {
   "cell_type": "code",
   "execution_count": 200,
   "metadata": {
    "collapsed": true
   },
   "outputs": [],
   "source": [
    "# create final dataset by merge both true and wrong pairs\n",
    "df_final = df_true_pairs.append(df_false_pairs)\n",
    "df_final.reset_index(drop=True,inplace=True)\n",
    "df_final = df_final.reindex(np.random.permutation(df_final.index))\n",
    "df_final.reset_index(drop=True,inplace=True)"
   ]
  },
  {
   "cell_type": "code",
   "execution_count": 201,
   "metadata": {},
   "outputs": [
    {
     "data": {
      "text/plain": [
       "(702880, 7)"
      ]
     },
     "execution_count": 201,
     "metadata": {},
     "output_type": "execute_result"
    }
   ],
   "source": [
    "df_final.shape"
   ]
  },
  {
   "cell_type": "code",
   "execution_count": 202,
   "metadata": {},
   "outputs": [
    {
     "data": {
      "text/html": [
       "<div>\n",
       "<table border=\"1\" class=\"dataframe\">\n",
       "  <thead>\n",
       "    <tr style=\"text-align: right;\">\n",
       "      <th></th>\n",
       "      <th>pagename</th>\n",
       "      <th>section</th>\n",
       "      <th>para_id</th>\n",
       "      <th>para_text</th>\n",
       "      <th>rel_label</th>\n",
       "      <th>query</th>\n",
       "      <th>pagename_index</th>\n",
       "    </tr>\n",
       "  </thead>\n",
       "  <tbody>\n",
       "    <tr>\n",
       "      <th>0</th>\n",
       "      <td>academi</td>\n",
       "      <td>role in the iraq war</td>\n",
       "      <td>44920381f7880d9026644910f734aacdf68fb77b</td>\n",
       "      <td>In June 2011  a federal judge dismissed Erik P...</td>\n",
       "      <td>1</td>\n",
       "      <td>role in the iraq war of academi</td>\n",
       "      <td>3002</td>\n",
       "    </tr>\n",
       "    <tr>\n",
       "      <th>1</th>\n",
       "      <td>wide-bandgap semiconductor</td>\n",
       "      <td>materials</td>\n",
       "      <td>3abc958463d33ea14cd2ec5e79d4899e9496df39</td>\n",
       "      <td>Aluminum nitride  (AlN) can be used to fabrica...</td>\n",
       "      <td>1</td>\n",
       "      <td>materials of wide-bandgap semiconductor</td>\n",
       "      <td>35388</td>\n",
       "    </tr>\n",
       "    <tr>\n",
       "      <th>2</th>\n",
       "      <td>brexit</td>\n",
       "      <td>%22article 50%22 and the procedure for leaving...</td>\n",
       "      <td>d4ecf5f21477b5c5586149c4efd4cb7fe8377333</td>\n",
       "      <td>Various EU leaders have said that they will no...</td>\n",
       "      <td>0</td>\n",
       "      <td>the term %22brexit%22 of brexit</td>\n",
       "      <td>7561</td>\n",
       "    </tr>\n",
       "    <tr>\n",
       "      <th>3</th>\n",
       "      <td>mandaue city science high school</td>\n",
       "      <td>history</td>\n",
       "      <td>f8a178b8f18bd8d97c67f0496f704f8697ae0b74</td>\n",
       "      <td>The first batch of students were mostly honor ...</td>\n",
       "      <td>0</td>\n",
       "      <td>admission of mandaue city science high school</td>\n",
       "      <td>21558</td>\n",
       "    </tr>\n",
       "    <tr>\n",
       "      <th>4</th>\n",
       "      <td>palador pictures</td>\n",
       "      <td>acquired films</td>\n",
       "      <td>ea9624c488fc93bfaea823f0dae1bc59470f1360</td>\n",
       "      <td>The company has acquired these films from dif...</td>\n",
       "      <td>0</td>\n",
       "      <td>naming of palador pictures</td>\n",
       "      <td>25363</td>\n",
       "    </tr>\n",
       "  </tbody>\n",
       "</table>\n",
       "</div>"
      ],
      "text/plain": [
       "                           pagename  \\\n",
       "0                           academi   \n",
       "1        wide-bandgap semiconductor   \n",
       "2                            brexit   \n",
       "3  mandaue city science high school   \n",
       "4                  palador pictures   \n",
       "\n",
       "                                             section  \\\n",
       "0                               role in the iraq war   \n",
       "1                                          materials   \n",
       "2  %22article 50%22 and the procedure for leaving...   \n",
       "3                                            history   \n",
       "4                                     acquired films   \n",
       "\n",
       "                                    para_id  \\\n",
       "0  44920381f7880d9026644910f734aacdf68fb77b   \n",
       "1  3abc958463d33ea14cd2ec5e79d4899e9496df39   \n",
       "2  d4ecf5f21477b5c5586149c4efd4cb7fe8377333   \n",
       "3  f8a178b8f18bd8d97c67f0496f704f8697ae0b74   \n",
       "4  ea9624c488fc93bfaea823f0dae1bc59470f1360   \n",
       "\n",
       "                                           para_text  rel_label  \\\n",
       "0  In June 2011  a federal judge dismissed Erik P...          1   \n",
       "1  Aluminum nitride  (AlN) can be used to fabrica...          1   \n",
       "2  Various EU leaders have said that they will no...          0   \n",
       "3  The first batch of students were mostly honor ...          0   \n",
       "4   The company has acquired these films from dif...          0   \n",
       "\n",
       "                                           query  pagename_index  \n",
       "0                role in the iraq war of academi            3002  \n",
       "1        materials of wide-bandgap semiconductor           35388  \n",
       "2                the term %22brexit%22 of brexit            7561  \n",
       "3  admission of mandaue city science high school           21558  \n",
       "4                     naming of palador pictures           25363  "
      ]
     },
     "execution_count": 202,
     "metadata": {},
     "output_type": "execute_result"
    }
   ],
   "source": [
    "df_final.head()"
   ]
  },
  {
   "cell_type": "code",
   "execution_count": 203,
   "metadata": {},
   "outputs": [
    {
     "data": {
      "text/plain": [
       "(351440, 7)"
      ]
     },
     "execution_count": 203,
     "metadata": {},
     "output_type": "execute_result"
    }
   ],
   "source": [
    "df_final[df_final.rel_label==1].shape"
   ]
  },
  {
   "cell_type": "code",
   "execution_count": 204,
   "metadata": {
    "collapsed": true
   },
   "outputs": [],
   "source": [
    "# change format of labels to [0,1] or [1,0]\n",
    "labels = df_final['rel_label'].values\n",
    "\n",
    "y=[]\n",
    "for i in range(len(labels)):\n",
    "    if labels[i]==1:\n",
    "        y.append([0, 1])\n",
    "    elif labels[i]==0:\n",
    "        y.append([1, 0])\n",
    "    else:\n",
    "        print('label value not in [0,1]') "
   ]
  },
  {
   "cell_type": "code",
   "execution_count": 205,
   "metadata": {
    "collapsed": true
   },
   "outputs": [],
   "source": [
    "y_array = np.array(y)"
   ]
  },
  {
   "cell_type": "code",
   "execution_count": 207,
   "metadata": {
    "collapsed": true
   },
   "outputs": [],
   "source": [
    "'''\n",
    "# save final full data set\n",
    "df_final['query'].values.dump(\"../data/balanced_full_fold0_600K_query_text.csv\")\n",
    "df_final['para_text'].values.dump(\"../data/balanced_full_fold0_600K_paragraph_text.csv\")\n",
    "y_array.dump(\"../data/balanced_full_fold0_600K_labels.csv\")\n",
    "'''"
   ]
  },
  {
   "cell_type": "code",
   "execution_count": null,
   "metadata": {
    "collapsed": true
   },
   "outputs": [],
   "source": [
    "'''\n",
    "# possibly also save a final short and medium datasets by taking a subset of full dataset (for \n",
    "computational reasons to debug the model, since loading the full dataset is very long)\n",
    "'''"
   ]
  },
  {
   "cell_type": "code",
   "execution_count": null,
   "metadata": {
    "collapsed": true
   },
   "outputs": [],
   "source": []
  },
  {
   "cell_type": "code",
   "execution_count": null,
   "metadata": {
    "collapsed": true
   },
   "outputs": [],
   "source": [
    "# Let's remove rows with short paragraphs (that have less than x words) since there are paragraphs\n",
    "# with only 2-3 words that we should no try to classify"
   ]
  },
  {
   "cell_type": "code",
   "execution_count": 125,
   "metadata": {},
   "outputs": [],
   "source": [
    "# Re-loading data, to do also with medium/short\n",
    "q_text = np.load(\"../data/balanced_full_fold0_600K_query_text.csv\")\n",
    "p_text = np.load(\"../data/balanced_full_fold0_600K_paragraph_text.csv\")\n",
    "y = np.load(\"../data/balanced_full_fold0_600K_labels.csv\").tolist()"
   ]
  },
  {
   "cell_type": "code",
   "execution_count": 126,
   "metadata": {
    "collapsed": true
   },
   "outputs": [],
   "source": [
    "labels=[]\n",
    "for i in range(len(y)):\n",
    "    if y[i][0]==0:\n",
    "        labels.append(1)\n",
    "    elif y[i][0]==1:\n",
    "        labels.append(0)\n",
    "    else:\n",
    "        print('label value not in [0,1]') "
   ]
  },
  {
   "cell_type": "code",
   "execution_count": 127,
   "metadata": {},
   "outputs": [],
   "source": [
    "columns=['q_text', 'p_text', 'labels']\n",
    "df = pd.DataFrame(q_text)\n",
    "df['p_text']=p_text\n",
    "df['labels']=labels\n",
    "df.columns = columns"
   ]
  },
  {
   "cell_type": "code",
   "execution_count": 128,
   "metadata": {},
   "outputs": [
    {
     "data": {
      "text/html": [
       "<div>\n",
       "<table border=\"1\" class=\"dataframe\">\n",
       "  <thead>\n",
       "    <tr style=\"text-align: right;\">\n",
       "      <th></th>\n",
       "      <th>q_text</th>\n",
       "      <th>p_text</th>\n",
       "      <th>labels</th>\n",
       "    </tr>\n",
       "  </thead>\n",
       "  <tbody>\n",
       "    <tr>\n",
       "      <th>0</th>\n",
       "      <td>buick %22nailhead v8%22 of buick v8 engine</td>\n",
       "      <td>In the mid-1970s  GM was using powerplants sou...</td>\n",
       "      <td>0</td>\n",
       "    </tr>\n",
       "    <tr>\n",
       "      <th>1</th>\n",
       "      <td>notable people of north tawton</td>\n",
       "      <td>The minister cried out  \"That is false doctrin...</td>\n",
       "      <td>1</td>\n",
       "    </tr>\n",
       "    <tr>\n",
       "      <th>2</th>\n",
       "      <td>publication history of ringer (comics)</td>\n",
       "      <td>The fictional character of the Ringer was init...</td>\n",
       "      <td>1</td>\n",
       "    </tr>\n",
       "    <tr>\n",
       "      <th>3</th>\n",
       "      <td>vision of warren court</td>\n",
       "      <td>Professor  John Hart Ely  in his book ''Democr...</td>\n",
       "      <td>1</td>\n",
       "    </tr>\n",
       "    <tr>\n",
       "      <th>4</th>\n",
       "      <td>transportation of burlington ontario</td>\n",
       "      <td>Federally  the city is represented by three MP...</td>\n",
       "      <td>0</td>\n",
       "    </tr>\n",
       "  </tbody>\n",
       "</table>\n",
       "</div>"
      ],
      "text/plain": [
       "                                       q_text  \\\n",
       "0  buick %22nailhead v8%22 of buick v8 engine   \n",
       "1              notable people of north tawton   \n",
       "2      publication history of ringer (comics)   \n",
       "3                      vision of warren court   \n",
       "4        transportation of burlington ontario   \n",
       "\n",
       "                                              p_text  labels  \n",
       "0  In the mid-1970s  GM was using powerplants sou...       0  \n",
       "1  The minister cried out  \"That is false doctrin...       1  \n",
       "2  The fictional character of the Ringer was init...       1  \n",
       "3  Professor  John Hart Ely  in his book ''Democr...       1  \n",
       "4  Federally  the city is represented by three MP...       0  "
      ]
     },
     "execution_count": 128,
     "metadata": {},
     "output_type": "execute_result"
    }
   ],
   "source": [
    "df.head()"
   ]
  },
  {
   "cell_type": "code",
   "execution_count": 129,
   "metadata": {},
   "outputs": [],
   "source": [
    "df['p_len'] = df.p_text.apply(lambda x: len(x.split()))"
   ]
  },
  {
   "cell_type": "code",
   "execution_count": 130,
   "metadata": {},
   "outputs": [
    {
     "data": {
      "text/html": [
       "<div>\n",
       "<table border=\"1\" class=\"dataframe\">\n",
       "  <thead>\n",
       "    <tr style=\"text-align: right;\">\n",
       "      <th></th>\n",
       "      <th>q_text</th>\n",
       "      <th>p_text</th>\n",
       "      <th>labels</th>\n",
       "      <th>p_len</th>\n",
       "    </tr>\n",
       "  </thead>\n",
       "  <tbody>\n",
       "    <tr>\n",
       "      <th>0</th>\n",
       "      <td>buick %22nailhead v8%22 of buick v8 engine</td>\n",
       "      <td>In the mid-1970s  GM was using powerplants sou...</td>\n",
       "      <td>0</td>\n",
       "      <td>50</td>\n",
       "    </tr>\n",
       "    <tr>\n",
       "      <th>1</th>\n",
       "      <td>notable people of north tawton</td>\n",
       "      <td>The minister cried out  \"That is false doctrin...</td>\n",
       "      <td>1</td>\n",
       "      <td>11</td>\n",
       "    </tr>\n",
       "    <tr>\n",
       "      <th>2</th>\n",
       "      <td>publication history of ringer (comics)</td>\n",
       "      <td>The fictional character of the Ringer was init...</td>\n",
       "      <td>1</td>\n",
       "      <td>366</td>\n",
       "    </tr>\n",
       "    <tr>\n",
       "      <th>3</th>\n",
       "      <td>vision of warren court</td>\n",
       "      <td>Professor  John Hart Ely  in his book ''Democr...</td>\n",
       "      <td>1</td>\n",
       "      <td>54</td>\n",
       "    </tr>\n",
       "    <tr>\n",
       "      <th>4</th>\n",
       "      <td>transportation of burlington ontario</td>\n",
       "      <td>Federally  the city is represented by three MP...</td>\n",
       "      <td>0</td>\n",
       "      <td>15</td>\n",
       "    </tr>\n",
       "  </tbody>\n",
       "</table>\n",
       "</div>"
      ],
      "text/plain": [
       "                                       q_text  \\\n",
       "0  buick %22nailhead v8%22 of buick v8 engine   \n",
       "1              notable people of north tawton   \n",
       "2      publication history of ringer (comics)   \n",
       "3                      vision of warren court   \n",
       "4        transportation of burlington ontario   \n",
       "\n",
       "                                              p_text  labels  p_len  \n",
       "0  In the mid-1970s  GM was using powerplants sou...       0     50  \n",
       "1  The minister cried out  \"That is false doctrin...       1     11  \n",
       "2  The fictional character of the Ringer was init...       1    366  \n",
       "3  Professor  John Hart Ely  in his book ''Democr...       1     54  \n",
       "4  Federally  the city is represented by three MP...       0     15  "
      ]
     },
     "execution_count": 130,
     "metadata": {},
     "output_type": "execute_result"
    }
   ],
   "source": [
    "df.head()"
   ]
  },
  {
   "cell_type": "code",
   "execution_count": 131,
   "metadata": {},
   "outputs": [
    {
     "data": {
      "image/png": "[encoded data removed]",
      "text/plain": [
       "<matplotlib.figure.Figure at 0x1203c3940>"
      ]
     },
     "metadata": {},
     "output_type": "display_data"
    }
   ],
   "source": [
    "# plot the histogram of the paragraph length (= number of words) in the dataset\n",
    "p_len = df.p_len.tolist()\n",
    "max_len = max(df.p_len.tolist())\n",
    "n, bins, patches = plt.hist(p_len, max_len, normed=1, facecolor='green', alpha=0.75)\n",
    "plt.xlabel('Paragraph length')\n",
    "plt.ylabel('Proportion')\n",
    "plt.title('Histogram of paragraph length')\n",
    "plt.axis([0, max_len, 0, 0.02])\n",
    "plt.grid(True)\n",
    "\n",
    "plt.show()"
   ]
  },
  {
   "cell_type": "code",
   "execution_count": 132,
   "metadata": {},
   "outputs": [
    {
     "name": "stdout",
     "output_type": "stream",
     "text": [
      "(1000, 4)\n",
      "(175, 4)\n",
      "(0, 4)\n"
     ]
    }
   ],
   "source": [
    "print(df.shape)\n",
    "print(df[df.p_len<16].shape)\n",
    "print(df[df.p_len>500].shape)"
   ]
  },
  {
   "cell_type": "code",
   "execution_count": 133,
   "metadata": {},
   "outputs": [],
   "source": [
    "# Keep only rows with paragraphs having 15+words\n",
    "df = df[df.p_len>15]"
   ]
  },
  {
   "cell_type": "code",
   "execution_count": 134,
   "metadata": {},
   "outputs": [],
   "source": [
    "# set back y labels to appropriate format\n",
    "q_text_clean = df.q_text\n",
    "p_text_clean = df.p_text\n",
    "\n",
    "labels = df['labels'].values\n",
    "y_clean=[]\n",
    "for i in range(len(labels)):\n",
    "    if labels[i]==1:\n",
    "        y_clean.append([0, 1])\n",
    "    elif labels[i]==0:\n",
    "        y_clean.append([1, 0])\n",
    "    else:\n",
    "        print('label value not in [0,1]') "
   ]
  },
  {
   "cell_type": "code",
   "execution_count": 135,
   "metadata": {},
   "outputs": [],
   "source": [
    "# save cleaned datasets, do the same for medium and full.\n",
    "q_text_clean.values.dump(\"../data/clean_balanced_full_fold0_600K_query_text.csv\")\n",
    "p_text_clean.values.dump(\"../data/clean_balanced_full_fold0_600K_paragraph_text.csv\")\n",
    "np.array(y_clean).dump(\"../data/clean_balanced_full_fold0_600K_labels.csv\")"
   ]
  }
 ],
 "metadata": {
  "kernelspec": {
   "display_name": "Python 3",
   "language": "python",
   "name": "python3"
  },
  "language_info": {
   "codemirror_mode": {
    "name": "ipython",
    "version": 3
   },
   "file_extension": ".py",
   "mimetype": "text/x-python",
   "name": "python",
   "nbconvert_exporter": "python",
   "pygments_lexer": "ipython3",
   "version": "3.5.2"
  }
 },
 "nbformat": 4,
 "nbformat_minor": 1
}
